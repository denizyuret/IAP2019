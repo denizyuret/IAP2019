{
 "cells": [
  {
   "cell_type": "markdown",
   "metadata": {
    "slideshow": {
     "slide_type": "slide"
    }
   },
   "source": [
    "# Load and minibatch MNIST data\n",
    "(c) Deniz Yuret, 2018"
   ]
  },
  {
   "cell_type": "markdown",
   "metadata": {},
   "source": [
    "* Objective: Learning the structure of the MNIST dataset and usage of the Knet.Data struct.\n",
    "* Prerequisites: [The iteration interface](https://docs.julialang.org/en/v1/manual/interfaces/#man-interface-iteration-1)\n",
    "* Knet: mnistdata, mnistview (used and explained)\n",
    "* Knet: dir, minibatch (used by mnist.jl)"
   ]
  },
  {
   "cell_type": "code",
   "execution_count": null,
   "metadata": {},
   "outputs": [],
   "source": [
    "using Pkg\n",
    "for p in (\"Knet\",\"Images\",\"ImageMagick\")\n",
    "    haskey(Pkg.installed(),p) || Pkg.add(p)\n",
    "end"
   ]
  },
  {
   "cell_type": "code",
   "execution_count": null,
   "metadata": {
    "slideshow": {
     "slide_type": "fragment"
    }
   },
   "outputs": [],
   "source": [
    "# This loads MNIST handwritten digit recognition dataset.\n",
    "# Traininig and test data go to variables dtrn and dtst\n",
    "using Knet: Knet, minibatch\n",
    "include(Knet.dir(\"data\",\"mnist.jl\"))  # defines mnistdata and mnistview\n",
    "dtrn,dtst = mnistdata(xtype=Array{Float32});"
   ]
  },
  {
   "cell_type": "code",
   "execution_count": null,
   "metadata": {
    "slideshow": {
     "slide_type": "fragment"
    }
   },
   "outputs": [],
   "source": [
    "# dtrn contains 600 minibatches of 100 images (total 60000)\n",
    "# dtst contains 100 minibatches of 100 images (total 10000)\n",
    "length.((dtrn,dtst))"
   ]
  },
  {
   "cell_type": "code",
   "execution_count": null,
   "metadata": {
    "slideshow": {
     "slide_type": "fragment"
    }
   },
   "outputs": [],
   "source": [
    "# Each minibatch is an (x,y) pair where x is 100 28x28x1 images and y contains their labels.\n",
    "# Here is the first minibatch in the test set:\n",
    "(x,y) = first(dtst)\n",
    "summary.((x,y))"
   ]
  },
  {
   "cell_type": "code",
   "execution_count": null,
   "metadata": {
    "slideshow": {
     "slide_type": "slide"
    }
   },
   "outputs": [],
   "source": [
    "# Here is the first five images from the test set:\n",
    "using Images, ImageMagick\n",
    "hcat([mnistview(x,i) for i=1:5]...)"
   ]
  },
  {
   "cell_type": "code",
   "execution_count": null,
   "metadata": {
    "slideshow": {
     "slide_type": "fragment"
    }
   },
   "outputs": [],
   "source": [
    "# Here are their labels (0x0a=10 is used to represent 0)\n",
    "@show y[1:5];"
   ]
  },
  {
   "cell_type": "code",
   "execution_count": null,
   "metadata": {},
   "outputs": [],
   "source": [
    "# dtrn and dtst are implemented as Julia iterators (see https://docs.julialang.org/en/v1/manual/interfaces)\n",
    "# This means they can be used in for loops, i.e. `for (x,y) in dtst`\n",
    "cnt = zeros(Int,10)\n",
    "for (x,y) in dtst\n",
    "    for label in y\n",
    "        cnt[label] += 1\n",
    "    end\n",
    "end\n",
    "@show cnt;"
   ]
  },
  {
   "cell_type": "code",
   "execution_count": null,
   "metadata": {},
   "outputs": [],
   "source": []
  }
 ],
 "metadata": {
  "accelerator": "GPU",
  "colab": {
   "collapsed_sections": [],
   "name": "julia.ipynb",
   "provenance": [],
   "version": "0.3.2"
  },
  "kernelspec": {
   "display_name": "Julia 1.0.3",
   "language": "julia",
   "name": "julia-1.0"
  },
  "language_info": {
   "file_extension": ".jl",
   "mimetype": "application/julia",
   "name": "julia",
   "version": "1.0.3"
  }
 },
 "nbformat": 4,
 "nbformat_minor": 1
}
